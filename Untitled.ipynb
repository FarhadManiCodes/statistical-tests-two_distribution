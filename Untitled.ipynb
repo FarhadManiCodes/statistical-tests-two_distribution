{
 "cells": [
  {
   "cell_type": "code",
   "execution_count": null,
   "id": "368b71e1-755e-4698-b809-39cb43f43e80",
   "metadata": {},
   "outputs": [],
   "source": []
  },
  {
   "cell_type": "code",
   "execution_count": 1,
   "id": "394d39d3-6661-4e35-af39-6488d008e4cf",
   "metadata": {},
   "outputs": [],
   "source": [
    "%matplotlib inline  \n",
    "from IPython.display import display as disp\n",
    "import examples as ex\n",
    "from random import randrange\n",
    "import matplotlib.pyplot as plt\n",
    "import seaborn as sns"
   ]
  },
  {
   "cell_type": "code",
   "execution_count": null,
   "id": "e010d994-f9a9-472e-81da-1ed63b55129f",
   "metadata": {},
   "outputs": [],
   "source": []
  },
  {
   "cell_type": "code",
   "execution_count": 2,
   "id": "b37f179a-0f68-4086-a361-bd7d32ecb87d",
   "metadata": {},
   "outputs": [
    {
     "ename": "AttributeError",
     "evalue": "module 'examples' has no attribute 'girls_train'",
     "output_type": "error",
     "traceback": [
      "\u001b[0;31m---------------------------------------------------------------------------\u001b[0m",
      "\u001b[0;31mAttributeError\u001b[0m                            Traceback (most recent call last)",
      "\u001b[0;32m<ipython-input-2-51d68f1f0028>\u001b[0m in \u001b[0;36m<module>\u001b[0;34m\u001b[0m\n\u001b[0;32m----> 1\u001b[0;31m \u001b[0mgirls_train\u001b[0m \u001b[0;34m=\u001b[0m \u001b[0mex\u001b[0m\u001b[0;34m.\u001b[0m\u001b[0mgirls_train\u001b[0m\u001b[0;34m\u001b[0m\u001b[0;34m\u001b[0m\u001b[0m\n\u001b[0m",
      "\u001b[0;31mAttributeError\u001b[0m: module 'examples' has no attribute 'girls_train'"
     ]
    }
   ],
   "source": [
    "girls_train = ex.girls_height_distribution(50,100)\n",
    "boys_train = ex.boys_height_distribution(50,100)"
   ]
  },
  {
   "cell_type": "code",
   "execution_count": null,
   "id": "50d086a2-fa69-481c-88c1-ee88255c63f7",
   "metadata": {},
   "outputs": [],
   "source": [
    "boys_train = make_test_dist_norm(MU_Bs,SIGMA_Bs,size_list_boys)"
   ]
  },
  {
   "cell_type": "code",
   "execution_count": null,
   "id": "94cd3d07-d3e1-485e-8902-9139986bf7c9",
   "metadata": {},
   "outputs": [],
   "source": []
  }
 ],
 "metadata": {
  "kernelspec": {
   "display_name": "LDSSA",
   "language": "python",
   "name": "ldssa"
  },
  "language_info": {
   "codemirror_mode": {
    "name": "ipython",
    "version": 3
   },
   "file_extension": ".py",
   "mimetype": "text/x-python",
   "name": "python",
   "nbconvert_exporter": "python",
   "pygments_lexer": "ipython3",
   "version": "3.9.5"
  }
 },
 "nbformat": 4,
 "nbformat_minor": 5
}
